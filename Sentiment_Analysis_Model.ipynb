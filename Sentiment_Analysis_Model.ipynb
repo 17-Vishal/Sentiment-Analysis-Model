{
  "nbformat": 4,
  "nbformat_minor": 0,
  "metadata": {
    "kernelspec": {
      "display_name": "Python 3",
      "language": "python",
      "name": "python3"
    },
    "language_info": {
      "codemirror_mode": {
        "name": "ipython",
        "version": 3
      },
      "file_extension": ".py",
      "mimetype": "text/x-python",
      "name": "python",
      "nbconvert_exporter": "python",
      "pygments_lexer": "ipython3",
      "version": "3.6.3"
    },
    "colab": {
      "name": "Sentiment Analysis Model.ipynb",
      "provenance": [],
      "collapsed_sections": []
    },
    "accelerator": "GPU"
  },
  "cells": [
    {
      "cell_type": "markdown",
      "metadata": {
        "id": "1SxbVZXzpPRv"
      },
      "source": [
        "# <u>Sentiment Analysis</u>\n",
        "\n",
        "#### I will be using \"Recurrent Neural Networks\" to detect the sentiments from the user comments.\n",
        "\n",
        "I have used RNN over Feedforward network because it gives more accurate result because through RNN we are able to keep information about the sequence of words.\n",
        "\n",
        "\n",
        "> <b><u>Dataset</u></b> used is of <b>Movie reviews</b> for training along with labels positive or negative.\n",
        "\n",
        "Example:\n",
        "* <b>Data:</b> \"The movie was boring by the end.\"<p>  <b>Label:</b> \"Negative\"\n",
        "* <b>Data:</b> \"Very Good Plot.\"<p>  <b>Label:</b> \"Positive\" \n",
        "\n",
        "\n",
        "### **Network Architecture**\n",
        "\n",
        "The architecture for this network is shown below.\n",
        "\n",
        "<center><img src=\"https://drive.google.com/uc?id=10Y_eUxkri7G8Yuyop_u6R0ZMY4a7Myo8\" width=40%>\n",
        "</center>\n",
        "\n",
        "\n",
        "* **First, we'll pass in words to an embedding layer.** We need an embedding layer because we have tens of thousands of words, so we'll need a more efficient representation for our input data than one-hot encoded vectors.\n",
        "* **After input words are passed to an embedding layer**, the new embeddings will be passed to LSTM cells. The LSTM cells will add recurrent connections to the network and give us the ability to include information about the sequence of words in the movie review data.\n",
        "* **Finally, the LSTM outputs will go to a sigmoid output layer**. We're using a sigmoid function because positive and negative = 1 and 0, respectively, and a sigmoid will output predicted, sentiment values between 0-1.\n",
        "\n",
        "As last step we calculate the loss by comparing the output at the last time step and training label (pos/ neg).\n"
      ]
    },
    {
      "cell_type": "markdown",
      "metadata": {
        "id": "2_JZAVg23aGk"
      },
      "source": [
        "\r\n",
        "\r\n",
        "* **Firstly, we have mounted drive to connect take our dataset**\r\n"
      ]
    },
    {
      "cell_type": "code",
      "metadata": {
        "id": "LLL4W8TirLoK",
        "colab": {
          "base_uri": "https://localhost:8080/"
        },
        "outputId": "f13df6ff-928c-4f43-d700-bcc091ca0208"
      },
      "source": [
        "from google.colab import drive\n",
        "drive.mount('/content/drive')"
      ],
      "execution_count": 1,
      "outputs": [
        {
          "output_type": "stream",
          "text": [
            "Drive already mounted at /content/drive; to attempt to forcibly remount, call drive.mount(\"/content/drive\", force_remount=True).\n"
          ],
          "name": "stdout"
        }
      ]
    },
    {
      "cell_type": "code",
      "metadata": {
        "id": "-TwGPVYPsjAm"
      },
      "source": [
        "!pip install -q keras"
      ],
      "execution_count": 2,
      "outputs": []
    },
    {
      "cell_type": "code",
      "metadata": {
        "id": "zk0wkj-TsqMm"
      },
      "source": [
        "import keras"
      ],
      "execution_count": 3,
      "outputs": []
    },
    {
      "cell_type": "markdown",
      "metadata": {
        "id": "LCPd5l5l3yb2"
      },
      "source": [
        "* **Loading the data**"
      ]
    },
    {
      "cell_type": "code",
      "metadata": {
        "id": "PFy3hlFNpPR2"
      },
      "source": [
        "import numpy as np\n",
        "\n",
        "with open('/content/drive/MyDrive/Colab Notebooks/data/reviews.txt', 'r') as f:\n",
        "    reviews = f.read()\n",
        "with open('/content/drive/MyDrive/Colab Notebooks/data/labels.txt', 'r') as f:\n",
        "    labels = f.read()"
      ],
      "execution_count": 4,
      "outputs": []
    },
    {
      "cell_type": "markdown",
      "metadata": {
        "id": "hrG5JrWq3_TP"
      },
      "source": [
        "* **Visualizing a small set of data to check**\r\n",
        " "
      ]
    },
    {
      "cell_type": "code",
      "metadata": {
        "colab": {
          "base_uri": "https://localhost:8080/"
        },
        "id": "Yo_c2VNtpPR3",
        "outputId": "fa708190-d7c1-4d55-d6a3-e4f3a9c1de65"
      },
      "source": [
        "print(reviews[:1000])\n",
        "print()\n",
        "print(labels[:27])"
      ],
      "execution_count": 5,
      "outputs": [
        {
          "output_type": "stream",
          "text": [
            "bromwell high is a cartoon comedy . it ran at the same time as some other programs about school life  such as  teachers  . my   years in the teaching profession lead me to believe that bromwell high  s satire is much closer to reality than is  teachers  . the scramble to survive financially  the insightful students who can see right through their pathetic teachers  pomp  the pettiness of the whole situation  all remind me of the schools i knew and their students . when i saw the episode in which a student repeatedly tried to burn down the school  i immediately recalled . . . . . . . . . at . . . . . . . . . . high . a classic line inspector i  m here to sack one of your teachers . student welcome to bromwell high . i expect that many adults of my age think that bromwell high is far fetched . what a pity that it isn  t   \n",
            "story of a man who has unnatural feelings for a pig . starts out with a opening scene that is a terrific example of absurd comedy . a formal orchestra audience is turn\n",
            "\n",
            "positive\n",
            "negative\n",
            "positive\n",
            "\n"
          ],
          "name": "stdout"
        }
      ]
    },
    {
      "cell_type": "markdown",
      "metadata": {
        "id": "zCbZca8cpPR6"
      },
      "source": [
        "- ## <u>**Data pre-processing**</u>\n",
        "\n",
        "Now we have to do data preprocessing, before moving any further\n",
        "We need to have our data in proper form before passing to network.\n",
        "\n",
        "We will have to send the data to embedding layer so we need to encode each word to an integer first. Also we are cleaning some data i.e. removing punctuations\n",
        "The first step when building a neural network model is getting your data into the proper form to feed into the network. Since we're using embedding layers, we'll need to encode each word with an integer. We'll also want to clean it up a bit.\n"
      ]
    },
    {
      "cell_type": "code",
      "metadata": {
        "id": "rq_xCKWBpPR8"
      },
      "source": [
        "from string import punctuation\n",
        "\n",
        "# removing punctuation\n",
        "reviews = reviews.lower() \n",
        "all_text = ''.join([c for c in reviews if c not in punctuation])\n",
        "\n",
        "# spliting data by new lines and spaces\n",
        "reviews_split = all_text.split('\\n')\n",
        "all_text = ' '.join(reviews_split)\n",
        "\n",
        "# creating a list of words\n",
        "words = all_text.split()"
      ],
      "execution_count": 6,
      "outputs": []
    },
    {
      "cell_type": "code",
      "metadata": {
        "id": "cBcj__FPpPR8",
        "colab": {
          "base_uri": "https://localhost:8080/"
        },
        "outputId": "549d9814-cfb4-4fb1-8b71-d105f74f6f86"
      },
      "source": [
        "words[:30]"
      ],
      "execution_count": 7,
      "outputs": [
        {
          "output_type": "execute_result",
          "data": {
            "text/plain": [
              "['bromwell',\n",
              " 'high',\n",
              " 'is',\n",
              " 'a',\n",
              " 'cartoon',\n",
              " 'comedy',\n",
              " 'it',\n",
              " 'ran',\n",
              " 'at',\n",
              " 'the',\n",
              " 'same',\n",
              " 'time',\n",
              " 'as',\n",
              " 'some',\n",
              " 'other',\n",
              " 'programs',\n",
              " 'about',\n",
              " 'school',\n",
              " 'life',\n",
              " 'such',\n",
              " 'as',\n",
              " 'teachers',\n",
              " 'my',\n",
              " 'years',\n",
              " 'in',\n",
              " 'the',\n",
              " 'teaching',\n",
              " 'profession',\n",
              " 'lead',\n",
              " 'me']"
            ]
          },
          "metadata": {
            "tags": []
          },
          "execution_count": 7
        }
      ]
    },
    {
      "cell_type": "markdown",
      "metadata": {
        "id": "NfZ-XEkhpPR-"
      },
      "source": [
        "- ### **Encoding the words**\n",
        "\n",
        "Now we have to convert them to integers, so for that we will be creating a dictionary that will map words in the vocabulary to the integers. \n"
      ]
    },
    {
      "cell_type": "code",
      "metadata": {
        "id": "wPvhcrRupPR_"
      },
      "source": [
        "\n",
        "from collections import Counter\n",
        "\n",
        "## Building a dictionary that maps words to integers\n",
        "counts = Counter(words)\n",
        "vocab = sorted(counts, key=counts.get, reverse=True)\n",
        "vocab_to_int = {word: ii for ii, word in enumerate(vocab, 1)}\n",
        "\n",
        "## using the dictionary to tokenize each review in reviews_split\n",
        "## storing the tokenized reviews in reviews_ints\n",
        "reviews_ints = []\n",
        "for review in reviews_split:\n",
        "    reviews_ints.append([vocab_to_int[word] for word in review.split()])"
      ],
      "execution_count": 8,
      "outputs": []
    },
    {
      "cell_type": "markdown",
      "metadata": {
        "id": "dkjGwG4DpPSA"
      },
      "source": [
        "- **Testing the code so far**"
      ]
    },
    {
      "cell_type": "code",
      "metadata": {
        "id": "Zg7D4R1rpPSA",
        "colab": {
          "base_uri": "https://localhost:8080/"
        },
        "outputId": "c6ee2ce4-6bd8-46b0-eece-ecb44f13b949"
      },
      "source": [
        "# stats about vocabulary\n",
        "print('Unique words: ', len((vocab_to_int)))  # should ~ 74000+\n",
        "print()\n",
        "\n",
        "# printing to check tokens in first review\n",
        "print('Tokenized review: \\n', reviews_ints[:1])"
      ],
      "execution_count": 9,
      "outputs": [
        {
          "output_type": "stream",
          "text": [
            "Unique words:  74072\n",
            "\n",
            "Tokenized review: \n",
            " [[21025, 308, 6, 3, 1050, 207, 8, 2138, 32, 1, 171, 57, 15, 49, 81, 5785, 44, 382, 110, 140, 15, 5194, 60, 154, 9, 1, 4975, 5852, 475, 71, 5, 260, 12, 21025, 308, 13, 1978, 6, 74, 2395, 5, 613, 73, 6, 5194, 1, 24103, 5, 1983, 10166, 1, 5786, 1499, 36, 51, 66, 204, 145, 67, 1199, 5194, 19869, 1, 37442, 4, 1, 221, 883, 31, 2988, 71, 4, 1, 5787, 10, 686, 2, 67, 1499, 54, 10, 216, 1, 383, 9, 62, 3, 1406, 3686, 783, 5, 3483, 180, 1, 382, 10, 1212, 13583, 32, 308, 3, 349, 341, 2913, 10, 143, 127, 5, 7690, 30, 4, 129, 5194, 1406, 2326, 5, 21025, 308, 10, 528, 12, 109, 1448, 4, 60, 543, 102, 12, 21025, 308, 6, 227, 4146, 48, 3, 2211, 12, 8, 215, 23]]\n"
          ],
          "name": "stdout"
        }
      ]
    },
    {
      "cell_type": "markdown",
      "metadata": {
        "id": "vFqy8RuNpPSB"
      },
      "source": [
        "- ### **Encoding the labels**\n",
        "\n",
        "Our labels are \"positive\" or \"negative\". To use these labels in our network, we have converted them to 0 and 1.\n"
      ]
    },
    {
      "cell_type": "code",
      "metadata": {
        "id": "TXhhaYqQpPSC"
      },
      "source": [
        "# 1=positive, 0=negative label conversion\n",
        "labels_split = labels.split('\\n')\n",
        "encoded_labels = np.array([1 if label == 'positive' else 0 for label in labels_split])"
      ],
      "execution_count": 10,
      "outputs": []
    },
    {
      "cell_type": "markdown",
      "metadata": {
        "id": "aFxYWtU8pPSC"
      },
      "source": [
        "- ### **Removing Outliers**\n",
        "\n",
        "Also we have set our reviews to a specific length:\n",
        "1. Getting rid of extremely long or short reviews i.e. the outliers\n",
        "2. Padding/truncating the remaining data so that we have reviews of the same length."
      ]
    },
    {
      "cell_type": "code",
      "metadata": {
        "id": "e_42nmdbpPSD",
        "colab": {
          "base_uri": "https://localhost:8080/"
        },
        "outputId": "8ff2b1de-a48c-4d96-a3ed-160aa88dce6f"
      },
      "source": [
        "# outlier review stats\n",
        "review_lens = Counter([len(x) for x in reviews_ints])\n",
        "print(\"Zero-length reviews: {}\".format(review_lens[0]))\n",
        "print(\"Maximum review length: {}\".format(max(review_lens)))"
      ],
      "execution_count": 11,
      "outputs": [
        {
          "output_type": "stream",
          "text": [
            "Zero-length reviews: 1\n",
            "Maximum review length: 2514\n"
          ],
          "name": "stdout"
        }
      ]
    },
    {
      "cell_type": "code",
      "metadata": {
        "id": "CqySzMQXpPSE",
        "colab": {
          "base_uri": "https://localhost:8080/"
        },
        "outputId": "fac59766-8e1b-48ca-a759-2ce2bb48932b"
      },
      "source": [
        "print('Number of reviews before removing outliers: ', len(reviews_ints))\n",
        "\n",
        "## removing any reviews/labels with zero length from the reviews_ints list.\n",
        "\n",
        "# getting indices of any reviews with length 0\n",
        "non_zero_idx = [ii for ii, review in enumerate(reviews_ints) if len(review) != 0]\n",
        "\n",
        "# removing all 0-length reviews and their labels\n",
        "reviews_ints = [reviews_ints[ii] for ii in non_zero_idx]\n",
        "encoded_labels = np.array([encoded_labels[ii] for ii in non_zero_idx])\n",
        "\n",
        "print('Number of reviews after removing outliers: ', len(reviews_ints))"
      ],
      "execution_count": 12,
      "outputs": [
        {
          "output_type": "stream",
          "text": [
            "Number of reviews before removing outliers:  25001\n",
            "Number of reviews after removing outliers:  25000\n"
          ],
          "name": "stdout"
        }
      ]
    },
    {
      "cell_type": "markdown",
      "metadata": {
        "id": "d843OFfXpPSF"
      },
      "source": [
        "---\n",
        "- ## **Padding sequences**\n",
        "\n",
        "To deal with both short and very long reviews, we'll pad or truncate all our reviews to a specific length. \n",
        "\n",
        "As a small example, if the `seq_length=10` and an input review is: \n",
        "```\n",
        "[27, 30, 128]\n",
        "```\n",
        "The resultant, padded sequence should be: \n",
        "\n",
        "```\n",
        "[0, 0, 0, 0, 0, 0, 0, 27, 30, 128]\n",
        "```\n",
        "\n",
        "**The final `features` array will be a 2D array, with as many rows as there are reviews, and as many columns as the specified `seq_length`.**\n"
      ]
    },
    {
      "cell_type": "code",
      "metadata": {
        "id": "73bGv9nbpPSG"
      },
      "source": [
        "def pad_features(reviews_ints, seq_length):\n",
        "    \n",
        "    # getting the correct rows x cols shape\n",
        "    features = np.zeros((len(reviews_ints), seq_length), dtype=int)\n",
        "\n",
        "    # for each review, I grab that review\n",
        "    for i, row in enumerate(reviews_ints):\n",
        "        features[i, -len(row):] = np.array(row)[:seq_length]\n",
        "    \n",
        "    return features"
      ],
      "execution_count": 13,
      "outputs": []
    },
    {
      "cell_type": "code",
      "metadata": {
        "id": "7riAnebCpPSH",
        "colab": {
          "base_uri": "https://localhost:8080/"
        },
        "outputId": "0a41775f-5332-4846-8f09-8099f05fc77b"
      },
      "source": [
        "# Testing the implementation!\n",
        "\n",
        "seq_length = 200\n",
        "\n",
        "features = pad_features(reviews_ints, seq_length=seq_length)\n",
        "\n",
        "assert len(features)==len(reviews_ints), \"features should have as many rows as reviews.\"\n",
        "assert len(features[0])==seq_length, \"Each feature row should contain seq_length values.\"\n",
        "\n",
        "# print first 10 values of the first 30 batches \n",
        "print(features[:30,:10])"
      ],
      "execution_count": 14,
      "outputs": [
        {
          "output_type": "stream",
          "text": [
            "[[    0     0     0     0     0     0     0     0     0     0]\n",
            " [    0     0     0     0     0     0     0     0     0     0]\n",
            " [22382    42 46418    15   706 17139  3389    47    77    35]\n",
            " [ 4505   505    15     3  3342   162  8312  1652     6  4819]\n",
            " [    0     0     0     0     0     0     0     0     0     0]\n",
            " [    0     0     0     0     0     0     0     0     0     0]\n",
            " [    0     0     0     0     0     0     0     0     0     0]\n",
            " [    0     0     0     0     0     0     0     0     0     0]\n",
            " [    0     0     0     0     0     0     0     0     0     0]\n",
            " [   54    10    14   116    60   798   552    71   364     5]\n",
            " [    0     0     0     0     0     0     0     0     0     0]\n",
            " [    0     0     0     0     0     0     0     0     0     0]\n",
            " [    0     0     0     0     0     0     0     0     0     0]\n",
            " [    1   330   578    34     3   162   748  2731     9   325]\n",
            " [    9    11 10171  5305  1946   689   444    22   280   673]\n",
            " [    0     0     0     0     0     0     0     0     0     0]\n",
            " [    1   307 10399  2069  1565  6202  6528  3288 17946 10628]\n",
            " [    0     0     0     0     0     0     0     0     0     0]\n",
            " [   21   122  2069  1565   515  8181    88     6  1325  1182]\n",
            " [    1    20     6    76    40     6    58    81    95     5]\n",
            " [   54    10    84   329 26230 46427    63    10    14   614]\n",
            " [   11    20     6    30  1436 32317  3769   690 15100     6]\n",
            " [    0     0     0     0     0     0     0     0     0     0]\n",
            " [    0     0     0     0     0     0     0     0     0     0]\n",
            " [   40    26   109 17952  1422     9     1   327     4   125]\n",
            " [    0     0     0     0     0     0     0     0     0     0]\n",
            " [   10   499     1   307 10399    55    74     8    13    30]\n",
            " [    0     0     0     0     0     0     0     0     0     0]\n",
            " [    0     0     0     0     0     0     0     0     0     0]\n",
            " [    0     0     0     0     0     0     0     0     0     0]]\n"
          ],
          "name": "stdout"
        }
      ]
    },
    {
      "cell_type": "markdown",
      "metadata": {
        "id": "DhfoD1sEpPSH"
      },
      "source": [
        "- ## **Training, Validation, Test**\n",
        "\n",
        "Now we have split our data into training, validation, and test sets in ratio of 0.8, 0.1, 0.1 respectively\n"
      ]
    },
    {
      "cell_type": "code",
      "metadata": {
        "id": "6Y6BadgXpPSI",
        "colab": {
          "base_uri": "https://localhost:8080/"
        },
        "outputId": "7eb75237-1b31-44a0-efc1-7a92fa6521b7"
      },
      "source": [
        "split_frac = 0.8\n",
        "\n",
        "## split data into training, validation, and test data (features and labels, x and y)\n",
        "\n",
        "split_idx = int(len(features)*split_frac)\n",
        "train_x, remaining_x = features[:split_idx], features[split_idx:]\n",
        "train_y, remaining_y = encoded_labels[:split_idx], encoded_labels[split_idx:]\n",
        "\n",
        "test_idx = int(len(remaining_x)*0.5)\n",
        "val_x, test_x = remaining_x[:test_idx], remaining_x[test_idx:]\n",
        "val_y, test_y = remaining_y[:test_idx], remaining_y[test_idx:]\n",
        "\n",
        "## print out the shapes of your resultant feature data\n",
        "print(\"\\t\\t\\tFeature Shapes:\")\n",
        "print(\"Train set: \\t\\t{}\".format(train_x.shape), \n",
        "      \"\\nValidation set: \\t{}\".format(val_x.shape),\n",
        "      \"\\nTest set: \\t\\t{}\".format(test_x.shape))"
      ],
      "execution_count": 15,
      "outputs": [
        {
          "output_type": "stream",
          "text": [
            "\t\t\tFeature Shapes:\n",
            "Train set: \t\t(20000, 200) \n",
            "Validation set: \t(2500, 200) \n",
            "Test set: \t\t(2500, 200)\n"
          ],
          "name": "stdout"
        }
      ]
    },
    {
      "cell_type": "markdown",
      "metadata": {
        "id": "-9TyMrjLpPSJ"
      },
      "source": [
        "---\n",
        "- ## **DataLoaders and Batching**\n",
        "\n",
        "Now we can create dataloaders and batch our training, validation, and test Tensor datasets."
      ]
    },
    {
      "cell_type": "code",
      "metadata": {
        "id": "kNvH7B2RpPSJ"
      },
      "source": [
        "import torch\n",
        "from torch.utils.data import TensorDataset, DataLoader\n",
        "\n",
        "# create Tensor datasets\n",
        "train_data = TensorDataset(torch.from_numpy(train_x), torch.from_numpy(train_y))\n",
        "valid_data = TensorDataset(torch.from_numpy(val_x), torch.from_numpy(val_y))\n",
        "test_data = TensorDataset(torch.from_numpy(test_x), torch.from_numpy(test_y))\n",
        "\n",
        "# dataloaders\n",
        "batch_size = 50\n",
        "\n",
        "#  SHUFFLING the training data\n",
        "train_loader = DataLoader(train_data, shuffle=True, batch_size=batch_size)\n",
        "valid_loader = DataLoader(valid_data, shuffle=True, batch_size=batch_size)\n",
        "test_loader = DataLoader(test_data, shuffle=True, batch_size=batch_size)"
      ],
      "execution_count": 16,
      "outputs": []
    },
    {
      "cell_type": "code",
      "metadata": {
        "id": "wkn3Xem9pPSK",
        "colab": {
          "base_uri": "https://localhost:8080/"
        },
        "outputId": "74498b4b-537d-4929-ac7c-c294482619c7"
      },
      "source": [
        "# taking one batch of training data\n",
        "dataiter = iter(train_loader)\n",
        "sample_x, sample_y = dataiter.next()\n",
        "\n",
        "print('Sample input size: ', sample_x.size()) # batch_size, seq_length\n",
        "print('Sample input: \\n', sample_x)\n",
        "print()\n",
        "print('Sample label size: ', sample_y.size()) # batch_size\n",
        "print('Sample label: \\n', sample_y)"
      ],
      "execution_count": 17,
      "outputs": [
        {
          "output_type": "stream",
          "text": [
            "Sample input size:  torch.Size([50, 200])\n",
            "Sample input: \n",
            " tensor([[    0,     0,     0,  ...,   191,     3, 14065],\n",
            "        [    0,     0,     0,  ...,    18,   262,    45],\n",
            "        [    0,     0,     0,  ...,    53,    13,    50],\n",
            "        ...,\n",
            "        [    0,     0,     0,  ...,   433,     4,   273],\n",
            "        [ 1635,   607,    99,  ...,     9,     1,    18],\n",
            "        [   11,    14,    60,  ...,  2741,   335,  8626]])\n",
            "\n",
            "Sample label size:  torch.Size([50])\n",
            "Sample label: \n",
            " tensor([1, 1, 1, 0, 1, 1, 1, 0, 0, 1, 0, 1, 1, 0, 0, 0, 0, 0, 0, 0, 1, 0, 0, 0,\n",
            "        0, 1, 0, 1, 1, 0, 0, 0, 0, 1, 1, 1, 1, 1, 1, 1, 1, 0, 0, 0, 0, 1, 0, 0,\n",
            "        1, 0])\n"
          ],
          "name": "stdout"
        }
      ]
    },
    {
      "cell_type": "markdown",
      "metadata": {
        "id": "Ls6RM-jypPSL"
      },
      "source": [
        "---\n",
        "- # **Sentiment Network with PyTorch**\n",
        "\n",
        "Now we have defined our network below"
      ]
    },
    {
      "cell_type": "markdown",
      "metadata": {
        "id": "SEspXiVZyA_C"
      },
      "source": [
        "- Firstly checking for the availability of GPU"
      ]
    },
    {
      "cell_type": "code",
      "metadata": {
        "id": "sHxRf6r0pPSL",
        "colab": {
          "base_uri": "https://localhost:8080/"
        },
        "outputId": "6beed617-51bf-4b25-ec59-02015f7e0348"
      },
      "source": [
        "# checking for GPU\n",
        "train_on_gpu=torch.cuda.is_available()\n",
        "\n",
        "if(train_on_gpu):\n",
        "    print('Training on GPU.')\n",
        "else:\n",
        "    print('No GPU available, training on CPU.')"
      ],
      "execution_count": 18,
      "outputs": [
        {
          "output_type": "stream",
          "text": [
            "Training on GPU.\n"
          ],
          "name": "stdout"
        }
      ]
    },
    {
      "cell_type": "code",
      "metadata": {
        "id": "F69DcBowpPSL"
      },
      "source": [
        "import torch.nn as nn\n",
        "\n",
        "class SentimentRNN(nn.Module):\n",
        "   \n",
        "\n",
        "    def __init__(self, vocab_size, output_size, embedding_dim, hidden_dim, n_layers, drop_prob=0.5):\n",
        "        \n",
        "        # Initializing the model by setting up the layers.\n",
        "       \n",
        "        super(SentimentRNN, self).__init__()\n",
        "\n",
        "        self.output_size = output_size\n",
        "        self.n_layers = n_layers\n",
        "        self.hidden_dim = hidden_dim\n",
        "        \n",
        "        # embedding and LSTM layers\n",
        "        self.embedding = nn.Embedding(vocab_size, embedding_dim)\n",
        "        self.lstm = nn.LSTM(embedding_dim, hidden_dim, n_layers, \n",
        "                            dropout=drop_prob, batch_first=True)\n",
        "        \n",
        "        # dropout layer\n",
        "        self.dropout = nn.Dropout(0.3)\n",
        "        \n",
        "        # linear and sigmoid layers\n",
        "        self.fc = nn.Linear(hidden_dim, output_size)\n",
        "        self.sig = nn.Sigmoid()\n",
        "        \n",
        "\n",
        "    def forward(self, x, hidden):\n",
        "        \"\"\"\n",
        "        Perform a forward pass of our model on some input and hidden state.\n",
        "        \"\"\"\n",
        "        batch_size = x.size(0)\n",
        "\n",
        "        # embeddings and lstm_out\n",
        "        x = x.long()\n",
        "        embeds = self.embedding(x)\n",
        "        lstm_out, hidden = self.lstm(embeds, hidden)\n",
        "    \n",
        "        # stack up lstm outputs\n",
        "        lstm_out = lstm_out.contiguous().view(-1, self.hidden_dim)\n",
        "        \n",
        "        # dropout and fully-connected layer\n",
        "        out = self.dropout(lstm_out)\n",
        "        out = self.fc(out)\n",
        "        # sigmoid function\n",
        "        sig_out = self.sig(out)\n",
        "        \n",
        "        # reshape to be batch_size first\n",
        "        sig_out = sig_out.view(batch_size, -1)\n",
        "        sig_out = sig_out[:, -1] # get last batch of labels\n",
        "        \n",
        "        # return last sigmoid output and hidden state\n",
        "        return sig_out, hidden\n",
        "    \n",
        "    \n",
        "    def init_hidden(self, batch_size):\n",
        "        # Initializing hidden state \n",
        "        # Creating two new tensors with sizes n_layers x batch_size x hidden_dim, initialized to zero, for hidden state and cell state of LSTM\n",
        "        weight = next(self.parameters()).data\n",
        "        \n",
        "        if (train_on_gpu):\n",
        "            hidden = (weight.new(self.n_layers, batch_size, self.hidden_dim).zero_().cuda(),\n",
        "                  weight.new(self.n_layers, batch_size, self.hidden_dim).zero_().cuda())\n",
        "        else:\n",
        "            hidden = (weight.new(self.n_layers, batch_size, self.hidden_dim).zero_(),\n",
        "                      weight.new(self.n_layers, batch_size, self.hidden_dim).zero_())\n",
        "        \n",
        "        return hidden\n",
        "        "
      ],
      "execution_count": 19,
      "outputs": []
    },
    {
      "cell_type": "markdown",
      "metadata": {
        "id": "Kp28CfbspPSM"
      },
      "source": [
        "- ## **Instantiate the network**\n",
        "Now we have set the hyperparameters and instantiated the model"
      ]
    },
    {
      "cell_type": "code",
      "metadata": {
        "id": "4H_71rBZpPSM",
        "colab": {
          "base_uri": "https://localhost:8080/"
        },
        "outputId": "30835c17-6930-4575-d71f-6abb24cd441f"
      },
      "source": [
        "# Instantiating the model with hyperparams\n",
        "vocab_size = len(vocab_to_int)+1      # +1 for the 0 padding + our word tokens\n",
        "output_size = 1\n",
        "embedding_dim = 400\n",
        "hidden_dim = 256\n",
        "n_layers = 2\n",
        "\n",
        "net = SentimentRNN(vocab_size, output_size, embedding_dim, hidden_dim, n_layers)\n",
        "\n",
        "print(net)"
      ],
      "execution_count": 20,
      "outputs": [
        {
          "output_type": "stream",
          "text": [
            "SentimentRNN(\n",
            "  (embedding): Embedding(74073, 400)\n",
            "  (lstm): LSTM(400, 256, num_layers=2, batch_first=True, dropout=0.5)\n",
            "  (dropout): Dropout(p=0.3, inplace=False)\n",
            "  (fc): Linear(in_features=256, out_features=1, bias=True)\n",
            "  (sig): Sigmoid()\n",
            ")\n"
          ],
          "name": "stdout"
        }
      ]
    },
    {
      "cell_type": "markdown",
      "metadata": {
        "id": "28fwSFVFpPSM"
      },
      "source": [
        "---\n",
        "- ## **Training**"
      ]
    },
    {
      "cell_type": "code",
      "metadata": {
        "id": "AQMZmfoVpPSM"
      },
      "source": [
        "# loss and optimization functions\n",
        "lr=0.001\n",
        "\n",
        "criterion = nn.BCELoss()\n",
        "optimizer = torch.optim.Adam(net.parameters(), lr=lr)\n"
      ],
      "execution_count": 21,
      "outputs": []
    },
    {
      "cell_type": "code",
      "metadata": {
        "id": "wd-ZvpDspPSN",
        "colab": {
          "base_uri": "https://localhost:8080/"
        },
        "outputId": "bab59245-91cf-486f-90f7-d8d483b84813"
      },
      "source": [
        "# training params\n",
        "\n",
        "epochs = 4     # checked with different epochs but here between 3 - 4 the validation loss stop decreasing\n",
        "counter = 0\n",
        "print_every = 100\n",
        "clip=5  # gradient clipping\n",
        "\n",
        "# moving model to GPU, if available\n",
        "if(train_on_gpu):\n",
        "    net.cuda()\n",
        "\n",
        "net.train()\n",
        "# train for epochs\n",
        "for e in range(epochs):\n",
        "    # initializing the hidden state\n",
        "    h = net.init_hidden(batch_size)\n",
        "\n",
        "    # batch loop\n",
        "    for inputs, labels in train_loader:\n",
        "        counter += 1\n",
        "\n",
        "        if(train_on_gpu):\n",
        "            inputs, labels = inputs.cuda(), labels.cuda()\n",
        "\n",
        "        # Creating new variables for the hidden state, otherwise\n",
        "        # we'd backprop through the entire training history\n",
        "        h = tuple([each.data for each in h])\n",
        "\n",
        "        # zero accumulated gradients\n",
        "        net.zero_grad()\n",
        "\n",
        "        # get the output from the model\n",
        "        output, h = net(inputs, h)\n",
        "\n",
        "        # calculating the loss and perform backprop\n",
        "        loss = criterion(output.squeeze(), labels.float())\n",
        "        loss.backward()\n",
        "\n",
        "        # `clip_grad_norm` helps prevent the exploding gradient problem in RNNs/ LSTMs.\n",
        "        nn.utils.clip_grad_norm_(net.parameters(), clip)\n",
        "        optimizer.step()\n",
        "\n",
        "        # loss statistics \n",
        "        if counter % print_every == 0:\n",
        "            # Get validation loss\n",
        "            val_h = net.init_hidden(batch_size)\n",
        "            val_losses = []\n",
        "            net.eval()\n",
        "            for inputs, labels in valid_loader:\n",
        "\n",
        "                # Creating new variables for the hidden state, otherwise\n",
        "                # we'd backprop through the entire training history\n",
        "                val_h = tuple([each.data for each in val_h])\n",
        "\n",
        "                if(train_on_gpu):\n",
        "                    inputs, labels = inputs.cuda(), labels.cuda()\n",
        "\n",
        "                output, val_h = net(inputs, val_h)\n",
        "                val_loss = criterion(output.squeeze(), labels.float())\n",
        "\n",
        "                val_losses.append(val_loss.item())\n",
        "\n",
        "            net.train()\n",
        "            print(\"Epoch: {}/{}...\".format(e+1, epochs),\n",
        "                  \"Step: {}...\".format(counter),\n",
        "                  \"Loss: {:.6f}...\".format(loss.item()),\n",
        "                  \"Val Loss: {:.6f}\".format(np.mean(val_losses)))"
      ],
      "execution_count": 22,
      "outputs": [
        {
          "output_type": "stream",
          "text": [
            "Epoch: 1/4... Step: 100... Loss: 0.600990... Val Loss: 0.654218\n",
            "Epoch: 1/4... Step: 200... Loss: 0.619914... Val Loss: 0.629372\n",
            "Epoch: 1/4... Step: 300... Loss: 0.692550... Val Loss: 0.692442\n",
            "Epoch: 1/4... Step: 400... Loss: 0.688580... Val Loss: 0.691582\n",
            "Epoch: 2/4... Step: 500... Loss: 0.699060... Val Loss: 0.702534\n",
            "Epoch: 2/4... Step: 600... Loss: 0.690918... Val Loss: 0.688758\n",
            "Epoch: 2/4... Step: 700... Loss: 0.610046... Val Loss: 0.565808\n",
            "Epoch: 2/4... Step: 800... Loss: 0.511591... Val Loss: 0.495491\n",
            "Epoch: 3/4... Step: 900... Loss: 0.399440... Val Loss: 0.517709\n",
            "Epoch: 3/4... Step: 1000... Loss: 0.397885... Val Loss: 0.443151\n",
            "Epoch: 3/4... Step: 1100... Loss: 0.339887... Val Loss: 0.480243\n",
            "Epoch: 3/4... Step: 1200... Loss: 0.249359... Val Loss: 0.437880\n",
            "Epoch: 4/4... Step: 1300... Loss: 0.447809... Val Loss: 0.561570\n",
            "Epoch: 4/4... Step: 1400... Loss: 0.344228... Val Loss: 0.448189\n",
            "Epoch: 4/4... Step: 1500... Loss: 0.373095... Val Loss: 0.535112\n",
            "Epoch: 4/4... Step: 1600... Loss: 0.337592... Val Loss: 0.435691\n"
          ],
          "name": "stdout"
        }
      ]
    },
    {
      "cell_type": "markdown",
      "metadata": {
        "id": "TLbBA6cypPSN"
      },
      "source": [
        "---\n",
        "- ## **Testing**\n"
      ]
    },
    {
      "cell_type": "code",
      "metadata": {
        "id": "AB6bVvxOpPSN",
        "colab": {
          "base_uri": "https://localhost:8080/"
        },
        "outputId": "d75ea79f-4065-4dab-a913-152561ec4853"
      },
      "source": [
        "# Get test data loss and accuracy\n",
        "\n",
        "test_losses = [] # track loss\n",
        "num_correct = 0\n",
        "\n",
        "# init hidden state\n",
        "h = net.init_hidden(batch_size)\n",
        "\n",
        "net.eval()\n",
        "# iterating over test data\n",
        "for inputs, labels in test_loader:\n",
        "\n",
        "    # Creating new variables for the hidden state, otherwise\n",
        "    # we'd backprop through the entire training history\n",
        "    h = tuple([each.data for each in h])\n",
        "\n",
        "    if(train_on_gpu):\n",
        "        inputs, labels = inputs.cuda(), labels.cuda()\n",
        "    \n",
        "    # get predicted outputs\n",
        "    output, h = net(inputs, h)\n",
        "    \n",
        "    # calculating the loss here\n",
        "    test_loss = criterion(output.squeeze(), labels.float())\n",
        "    test_losses.append(test_loss.item())\n",
        "    \n",
        "    # converting output probabilities to predicted class (0 or 1)\n",
        "    pred = torch.round(output.squeeze())  # rounds to the nearest integer\n",
        "    \n",
        "    # comparing predictions to true label\n",
        "    correct_tensor = pred.eq(labels.float().view_as(pred))\n",
        "    correct = np.squeeze(correct_tensor.numpy()) if not train_on_gpu else np.squeeze(correct_tensor.cpu().numpy())\n",
        "    num_correct += np.sum(correct)\n",
        "\n",
        "\n",
        "# avg test loss\n",
        "print(\"Test loss: {:.3f}\".format(np.mean(test_losses)))\n",
        "\n",
        "# accuracy over all test data\n",
        "test_acc = num_correct/len(test_loader.dataset)\n",
        "print(\"Test accuracy: {:.3f}\".format(test_acc))"
      ],
      "execution_count": 23,
      "outputs": [
        {
          "output_type": "stream",
          "text": [
            "Test loss: 0.432\n",
            "Test accuracy: 0.807\n"
          ],
          "name": "stdout"
        }
      ]
    },
    {
      "cell_type": "markdown",
      "metadata": {
        "id": "UeTmjpkXyr5O"
      },
      "source": [
        "**The model gave accuracy of 80.7% on the test data.**"
      ]
    },
    {
      "cell_type": "markdown",
      "metadata": {
        "id": "gyG7bt2TpPSO"
      },
      "source": [
        "- ### **Inference on a test review**\n",
        "Now we have checked with a different user defined review which is not from the dataset."
      ]
    },
    {
      "cell_type": "code",
      "metadata": {
        "id": "cr3YKT3opPSO"
      },
      "source": [
        "# negative test review\n",
        "test_review_neg = 'The worst movie I have seen; acting was terrible and I want my money back. This movie had bad acting and the dialogue was slow.'\n"
      ],
      "execution_count": 24,
      "outputs": []
    },
    {
      "cell_type": "code",
      "metadata": {
        "id": "eXK9v6ewpPSO",
        "colab": {
          "base_uri": "https://localhost:8080/"
        },
        "outputId": "430988a5-e574-405d-c564-c805f15e3ff7"
      },
      "source": [
        "from string import punctuation\n",
        "\n",
        "def tokenize_review(test_review):\n",
        "    test_review = test_review.lower() # lowercase\n",
        "    # get rid of punctuation\n",
        "    test_text = ''.join([c for c in test_review if c not in punctuation])\n",
        "\n",
        "    # splitting by spaces\n",
        "    test_words = test_text.split()\n",
        "\n",
        "    # tokens\n",
        "    test_ints = []\n",
        "    test_ints.append([vocab_to_int[word] for word in test_words])\n",
        "\n",
        "    return test_ints\n",
        "\n",
        "# test code and generate tokenized review\n",
        "test_ints = tokenize_review(test_review_neg)\n",
        "print(test_ints)"
      ],
      "execution_count": 25,
      "outputs": [
        {
          "output_type": "stream",
          "text": [
            "[[1, 247, 18, 10, 28, 108, 113, 14, 388, 2, 10, 181, 60, 273, 144, 11, 18, 68, 76, 113, 2, 1, 410, 14, 539]]\n"
          ],
          "name": "stdout"
        }
      ]
    },
    {
      "cell_type": "code",
      "metadata": {
        "id": "OwaWTG4vpPSO",
        "colab": {
          "base_uri": "https://localhost:8080/"
        },
        "outputId": "3e23e7e0-9245-4498-9709-97523afd7b1a"
      },
      "source": [
        "# test sequence padding\n",
        "seq_length=200\n",
        "features = pad_features(test_ints, seq_length)\n",
        "\n",
        "print(features)"
      ],
      "execution_count": 26,
      "outputs": [
        {
          "output_type": "stream",
          "text": [
            "[[  0   0   0   0   0   0   0   0   0   0   0   0   0   0   0   0   0   0\n",
            "    0   0   0   0   0   0   0   0   0   0   0   0   0   0   0   0   0   0\n",
            "    0   0   0   0   0   0   0   0   0   0   0   0   0   0   0   0   0   0\n",
            "    0   0   0   0   0   0   0   0   0   0   0   0   0   0   0   0   0   0\n",
            "    0   0   0   0   0   0   0   0   0   0   0   0   0   0   0   0   0   0\n",
            "    0   0   0   0   0   0   0   0   0   0   0   0   0   0   0   0   0   0\n",
            "    0   0   0   0   0   0   0   0   0   0   0   0   0   0   0   0   0   0\n",
            "    0   0   0   0   0   0   0   0   0   0   0   0   0   0   0   0   0   0\n",
            "    0   0   0   0   0   0   0   0   0   0   0   0   0   0   0   0   0   0\n",
            "    0   0   0   0   0   0   0   0   0   0   0   0   0   1 247  18  10  28\n",
            "  108 113  14 388   2  10 181  60 273 144  11  18  68  76 113   2   1 410\n",
            "   14 539]]\n"
          ],
          "name": "stdout"
        }
      ]
    },
    {
      "cell_type": "code",
      "metadata": {
        "id": "X1Tj0LnKpPSP",
        "colab": {
          "base_uri": "https://localhost:8080/"
        },
        "outputId": "d4d08655-0020-4b7e-d755-eda2af60b7af"
      },
      "source": [
        "# test conversion to tensor and pass into your model\n",
        "feature_tensor = torch.from_numpy(features)\n",
        "print(feature_tensor.size())"
      ],
      "execution_count": 27,
      "outputs": [
        {
          "output_type": "stream",
          "text": [
            "torch.Size([1, 200])\n"
          ],
          "name": "stdout"
        }
      ]
    },
    {
      "cell_type": "code",
      "metadata": {
        "id": "MSDEcGBEpPSP"
      },
      "source": [
        "def predict(net, test_review, sequence_length=200):\n",
        "    \n",
        "    net.eval()\n",
        "    \n",
        "    # tokenize the review\n",
        "    test_ints = tokenize_review(test_review)\n",
        "    \n",
        "    # padding the tokenized sequence\n",
        "    seq_length=sequence_length\n",
        "    features = pad_features(test_ints, seq_length)\n",
        "    \n",
        "    # converting to tensor to pass into your model\n",
        "    feature_tensor = torch.from_numpy(features)\n",
        "    \n",
        "    batch_size = feature_tensor.size(0)\n",
        "    \n",
        "    # initializing hidden state\n",
        "    h = net.init_hidden(batch_size)\n",
        "    \n",
        "    if(train_on_gpu):\n",
        "        feature_tensor = feature_tensor.cuda()\n",
        "    \n",
        "    # getting the output from the model\n",
        "    output, h = net(feature_tensor, h)\n",
        "    \n",
        "    # convertting output probabilities to predicted class (0 or 1)\n",
        "    pred = torch.round(output.squeeze()) \n",
        "    # printing output value, before rounding\n",
        "    print('Prediction value, pre-rounding: {:.6f}'.format(output.item()))\n",
        "    \n",
        "    # printing custom response\n",
        "    if(pred.item()==1):\n",
        "        print(\"Positive review detected!\")\n",
        "    else:\n",
        "        print(\"Negative review detected.\")\n",
        "        "
      ],
      "execution_count": 28,
      "outputs": []
    },
    {
      "cell_type": "code",
      "metadata": {
        "id": "8dLBJPAVpPSP"
      },
      "source": [
        "# positive test review\n",
        "test_review_pos = 'This movie had the best acting and the dialogue was so good. I loved it.'\n"
      ],
      "execution_count": 29,
      "outputs": []
    },
    {
      "cell_type": "code",
      "metadata": {
        "id": "O6lceMmgpPSQ",
        "colab": {
          "base_uri": "https://localhost:8080/"
        },
        "outputId": "51f29e2e-cab6-4094-a8da-9d497fc94014"
      },
      "source": [
        "# calling function\n",
        "seq_length=200     # used the length that was trained on\n",
        "\n",
        "predict(net, test_review_neg, seq_length)"
      ],
      "execution_count": 30,
      "outputs": [
        {
          "output_type": "stream",
          "text": [
            "Prediction value, pre-rounding: 0.020388\n",
            "Negative review detected.\n"
          ],
          "name": "stdout"
        }
      ]
    },
    {
      "cell_type": "code",
      "metadata": {
        "id": "aHcSnmsWqYoG",
        "colab": {
          "base_uri": "https://localhost:8080/"
        },
        "outputId": "64e084d6-54e7-4943-8ef3-f60d4d0211f5"
      },
      "source": [
        "seq_length=200     # used the length that was trained on\r\n",
        "\r\n",
        "predict(net, test_review_pos, seq_length)"
      ],
      "execution_count": 31,
      "outputs": [
        {
          "output_type": "stream",
          "text": [
            "Prediction value, pre-rounding: 0.939066\n",
            "Positive review detected!\n"
          ],
          "name": "stdout"
        }
      ]
    },
    {
      "cell_type": "markdown",
      "metadata": {
        "id": "u-fIdtAvzBQD"
      },
      "source": [
        "**The model rightly predicts the reviews as positive or negative!**\r\n"
      ]
    }
  ]
}